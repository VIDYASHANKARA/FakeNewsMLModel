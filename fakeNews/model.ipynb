{
 "cells": [
  {
   "cell_type": "markdown",
   "id": "33bbf6eb-6b9e-4757-82fe-c02ea684e9b0",
   "metadata": {},
   "source": [
    "# Importing libs"
   ]
  },
  {
   "cell_type": "code",
   "execution_count": 184,
   "id": "0374372d-d0b1-46ef-9f32-c18e7568e0f8",
   "metadata": {},
   "outputs": [],
   "source": [
    "import pandas as pd\n",
    "import numpy as np\n",
    "\n",
    "from sklearn.model_selection import train_test_split\n",
    "from sklearn.feature_extraction.text import TfidfVectorizer \n",
    "from sklearn.svm import LinearSVC"
   ]
  },
  {
   "cell_type": "markdown",
   "id": "d7e59259-0ad0-4d81-9ba6-0a53a277ddd4",
   "metadata": {},
   "source": [
    "# reading csv"
   ]
  },
  {
   "cell_type": "code",
   "execution_count": 185,
   "id": "2bd03e1a-3362-4514-b4cd-b04abf6137d5",
   "metadata": {},
   "outputs": [],
   "source": [
    "df=pd.read_csv('news_articles.csv')"
   ]
  },
  {
   "cell_type": "code",
   "execution_count": 186,
   "id": "0f0fc3ad-5ddf-4287-9d03-4f29ea8ff50d",
   "metadata": {},
   "outputs": [
    {
     "data": {
      "text/plain": [
       "Index(['author', 'published', 'title', 'text', 'language', 'site_url',\n",
       "       'main_img_url', 'type', 'label', 'title_without_stopwords',\n",
       "       'text_without_stopwords', 'hasImage'],\n",
       "      dtype='object')"
      ]
     },
     "execution_count": 186,
     "metadata": {},
     "output_type": "execute_result"
    }
   ],
   "source": [
    "df.columns"
   ]
  },
  {
   "cell_type": "markdown",
   "id": "f258b8c3-4856-49c5-ab1e-77461d043664",
   "metadata": {},
   "source": [
    "# keeping imp colums"
   ]
  },
  {
   "cell_type": "code",
   "execution_count": 187,
   "id": "83642fdd-56ba-4aa9-97b2-b2a7526f90fb",
   "metadata": {},
   "outputs": [
    {
     "data": {
      "text/html": [
       "<div>\n",
       "<style scoped>\n",
       "    .dataframe tbody tr th:only-of-type {\n",
       "        vertical-align: middle;\n",
       "    }\n",
       "\n",
       "    .dataframe tbody tr th {\n",
       "        vertical-align: top;\n",
       "    }\n",
       "\n",
       "    .dataframe thead th {\n",
       "        text-align: right;\n",
       "    }\n",
       "</style>\n",
       "<table border=\"1\" class=\"dataframe\">\n",
       "  <thead>\n",
       "    <tr style=\"text-align: right;\">\n",
       "      <th></th>\n",
       "      <th>title</th>\n",
       "      <th>text</th>\n",
       "      <th>type</th>\n",
       "      <th>label</th>\n",
       "    </tr>\n",
       "  </thead>\n",
       "  <tbody>\n",
       "    <tr>\n",
       "      <th>0</th>\n",
       "      <td>muslims busted they stole millions in govt ben...</td>\n",
       "      <td>print they should pay all the back all the mon...</td>\n",
       "      <td>bias</td>\n",
       "      <td>Real</td>\n",
       "    </tr>\n",
       "    <tr>\n",
       "      <th>1</th>\n",
       "      <td>re why did attorney general loretta lynch plea...</td>\n",
       "      <td>why did attorney general loretta lynch plead t...</td>\n",
       "      <td>bias</td>\n",
       "      <td>Real</td>\n",
       "    </tr>\n",
       "    <tr>\n",
       "      <th>2</th>\n",
       "      <td>breaking weiner cooperating with fbi on hillar...</td>\n",
       "      <td>red state  \\nfox news sunday reported this mor...</td>\n",
       "      <td>bias</td>\n",
       "      <td>Real</td>\n",
       "    </tr>\n",
       "    <tr>\n",
       "      <th>3</th>\n",
       "      <td>pin drop speech by father of daughter kidnappe...</td>\n",
       "      <td>email kayla mueller was a prisoner and torture...</td>\n",
       "      <td>bias</td>\n",
       "      <td>Real</td>\n",
       "    </tr>\n",
       "    <tr>\n",
       "      <th>4</th>\n",
       "      <td>fantastic trumps  point plan to reform healthc...</td>\n",
       "      <td>email healthcare reform to make america great ...</td>\n",
       "      <td>bias</td>\n",
       "      <td>Real</td>\n",
       "    </tr>\n",
       "    <tr>\n",
       "      <th>...</th>\n",
       "      <td>...</td>\n",
       "      <td>...</td>\n",
       "      <td>...</td>\n",
       "      <td>...</td>\n",
       "    </tr>\n",
       "    <tr>\n",
       "      <th>2091</th>\n",
       "      <td>teens walk free after gangrape conviction</td>\n",
       "      <td>NaN</td>\n",
       "      <td>bias</td>\n",
       "      <td>Real</td>\n",
       "    </tr>\n",
       "    <tr>\n",
       "      <th>2092</th>\n",
       "      <td>school named for munichmassacre mastermind</td>\n",
       "      <td>NaN</td>\n",
       "      <td>bias</td>\n",
       "      <td>Real</td>\n",
       "    </tr>\n",
       "    <tr>\n",
       "      <th>2093</th>\n",
       "      <td>russia unveils satan  missile</td>\n",
       "      <td>NaN</td>\n",
       "      <td>bs</td>\n",
       "      <td>Fake</td>\n",
       "    </tr>\n",
       "    <tr>\n",
       "      <th>2094</th>\n",
       "      <td>check out hillarythemed haunted house</td>\n",
       "      <td>NaN</td>\n",
       "      <td>bs</td>\n",
       "      <td>Fake</td>\n",
       "    </tr>\n",
       "    <tr>\n",
       "      <th>2095</th>\n",
       "      <td>cannabis aficionados develop thca crystalline ...</td>\n",
       "      <td>NaN</td>\n",
       "      <td>NaN</td>\n",
       "      <td>NaN</td>\n",
       "    </tr>\n",
       "  </tbody>\n",
       "</table>\n",
       "<p>2096 rows × 4 columns</p>\n",
       "</div>"
      ],
      "text/plain": [
       "                                                  title  \\\n",
       "0     muslims busted they stole millions in govt ben...   \n",
       "1     re why did attorney general loretta lynch plea...   \n",
       "2     breaking weiner cooperating with fbi on hillar...   \n",
       "3     pin drop speech by father of daughter kidnappe...   \n",
       "4     fantastic trumps  point plan to reform healthc...   \n",
       "...                                                 ...   \n",
       "2091          teens walk free after gangrape conviction   \n",
       "2092         school named for munichmassacre mastermind   \n",
       "2093                      russia unveils satan  missile   \n",
       "2094              check out hillarythemed haunted house   \n",
       "2095  cannabis aficionados develop thca crystalline ...   \n",
       "\n",
       "                                                   text  type label  \n",
       "0     print they should pay all the back all the mon...  bias  Real  \n",
       "1     why did attorney general loretta lynch plead t...  bias  Real  \n",
       "2     red state  \\nfox news sunday reported this mor...  bias  Real  \n",
       "3     email kayla mueller was a prisoner and torture...  bias  Real  \n",
       "4     email healthcare reform to make america great ...  bias  Real  \n",
       "...                                                 ...   ...   ...  \n",
       "2091                                                NaN  bias  Real  \n",
       "2092                                                NaN  bias  Real  \n",
       "2093                                                NaN    bs  Fake  \n",
       "2094                                                NaN    bs  Fake  \n",
       "2095                                                NaN   NaN   NaN  \n",
       "\n",
       "[2096 rows x 4 columns]"
      ]
     },
     "execution_count": 187,
     "metadata": {},
     "output_type": "execute_result"
    }
   ],
   "source": [
    "df=df[[ \n",
    "'title', \n",
    "'text',  \n",
    "'type', \n",
    "'label'\n",
    "]]\n",
    "df"
   ]
  },
  {
   "cell_type": "code",
   "execution_count": 188,
   "id": "363242c0-1d14-40be-8718-a965f09f363b",
   "metadata": {},
   "outputs": [
    {
     "data": {
      "text/plain": [
       "title     0\n",
       "text     46\n",
       "type      1\n",
       "label     1\n",
       "dtype: int64"
      ]
     },
     "execution_count": 188,
     "metadata": {},
     "output_type": "execute_result"
    }
   ],
   "source": [
    "df.isnull().sum()"
   ]
  },
  {
   "cell_type": "code",
   "execution_count": 189,
   "id": "19249cf6-db32-4392-8365-7d8f5a7f2abd",
   "metadata": {},
   "outputs": [
    {
     "data": {
      "text/plain": [
       "title    0\n",
       "text     0\n",
       "type     0\n",
       "label    0\n",
       "dtype: int64"
      ]
     },
     "execution_count": 189,
     "metadata": {},
     "output_type": "execute_result"
    }
   ],
   "source": [
    "df=df.dropna()\n",
    "df.isnull().sum()"
   ]
  },
  {
   "cell_type": "markdown",
   "id": "6b42a621-728d-4b25-bef4-b48184a6c6f7",
   "metadata": {},
   "source": [
    "# mapping 0 to fake and 1 to real"
   ]
  },
  {
   "cell_type": "code",
   "execution_count": 190,
   "id": "5f729109-9fcb-4046-b639-780957fa0fb6",
   "metadata": {},
   "outputs": [],
   "source": [
    "df.loc[:, 'label']=df['label'].map(\n",
    "    {\n",
    "        'Fake':0,\n",
    "        'Real':1\n",
    "    }\n",
    ")\n",
    "df = df[df['label'].notnull()] \n",
    "df['label'] = df['label'].astype(int)"
   ]
  },
  {
   "cell_type": "markdown",
   "id": "00d30af9-1906-4d3f-bfdc-79b52977f64b",
   "metadata": {},
   "source": [
    "# test train splitting"
   ]
  },
  {
   "cell_type": "code",
   "execution_count": 191,
   "id": "3ddad3b6-1e41-4ccb-8ea5-7c754ab34b85",
   "metadata": {},
   "outputs": [],
   "source": [
    "X,y=df['text'],df['label']\n",
    "\n",
    "X_train,X_test,y_train,y_test=train_test_split(X,y,test_size=0.3,random_state=42)\n",
    "vectorizer=TfidfVectorizer(stop_words=\"english\",max_df=0.7)\n",
    "\n",
    "vectorized_x_train=vectorizer.fit_transform(X_train)\n",
    "vectorized_x_test=vectorizer.transform(X_test)"
   ]
  },
  {
   "cell_type": "markdown",
   "id": "faebf40e-7cff-4e68-a4c4-44a6b860a7de",
   "metadata": {},
   "source": [
    "# creating a classifier"
   ]
  },
  {
   "cell_type": "code",
   "execution_count": 192,
   "id": "97ad7f91-f7af-416f-8289-836dda561857",
   "metadata": {},
   "outputs": [
    {
     "data": {
      "text/plain": [
       "0.9951219512195122"
      ]
     },
     "execution_count": 192,
     "metadata": {},
     "output_type": "execute_result"
    }
   ],
   "source": [
    "#clf=classifier\n",
    "clf=LinearSVC()\n",
    "clf.fit(vectorized_x_train,y_train)\n",
    "\n",
    "clf.score(vectorized_x_train,y_train)"
   ]
  },
  {
   "cell_type": "code",
   "execution_count": 193,
   "id": "b93aeb6c-98f4-425d-a78c-e05d2cd49ee5",
   "metadata": {},
   "outputs": [
    {
     "name": "stdout",
     "output_type": "stream",
     "text": [
      "Fake\n"
     ]
    }
   ],
   "source": [
    "def newsnum(i):\n",
    "    with open('news.txt','w',encoding='utf-8') as f:\n",
    "        f.write(X_test.iloc[i])\n",
    "    with open('news.txt','r',encoding='utf-8') as f:\n",
    "        text=f.read()\n",
    "    vectorized_text=vectorizer.transform([text])\n",
    "    if clf.predict(vectorized_text):\n",
    "        print(\"Real\")\n",
    "    else:\n",
    "        print(\"Fake\")\n",
    "\n",
    "newsnum(19)"
   ]
  }
 ],
 "metadata": {
  "kernelspec": {
   "display_name": "Python 3 (ipykernel)",
   "language": "python",
   "name": "python3"
  },
  "language_info": {
   "codemirror_mode": {
    "name": "ipython",
    "version": 3
   },
   "file_extension": ".py",
   "mimetype": "text/x-python",
   "name": "python",
   "nbconvert_exporter": "python",
   "pygments_lexer": "ipython3",
   "version": "3.13.3"
  }
 },
 "nbformat": 4,
 "nbformat_minor": 5
}
